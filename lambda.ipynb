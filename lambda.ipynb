{
 "cells": [
  {
   "cell_type": "code",
   "execution_count": 1,
   "metadata": {},
   "outputs": [
    {
     "ename": "ModuleNotFoundError",
     "evalue": "No module named 'boto3'",
     "output_type": "error",
     "traceback": [
      "\u001b[0;31m---------------------------------------------------------------------------\u001b[0m",
      "\u001b[0;31mModuleNotFoundError\u001b[0m                       Traceback (most recent call last)",
      "Cell \u001b[0;32mIn[1], line 2\u001b[0m\n\u001b[1;32m      1\u001b[0m \u001b[38;5;28;01mimport\u001b[39;00m \u001b[38;5;21;01mos\u001b[39;00m\n\u001b[0;32m----> 2\u001b[0m \u001b[38;5;28;01mimport\u001b[39;00m \u001b[38;5;21;01mboto3\u001b[39;00m\n\u001b[1;32m      3\u001b[0m \u001b[38;5;28;01mimport\u001b[39;00m \u001b[38;5;21;01mpandas\u001b[39;00m \u001b[38;5;28;01mas\u001b[39;00m \u001b[38;5;21;01mpd\u001b[39;00m\n\u001b[1;32m      4\u001b[0m \u001b[38;5;28;01mimport\u001b[39;00m \u001b[38;5;21;01mpymysql\u001b[39;00m  \u001b[38;5;66;03m# For MySQL RDS\u001b[39;00m\n",
      "\u001b[0;31mModuleNotFoundError\u001b[0m: No module named 'boto3'"
     ]
    }
   ],
   "source": [
    "import os\n",
    "import boto3\n",
    "import pandas as pd\n",
    "import pymysql  # For MySQL RDS"
   ]
  },
  {
   "cell_type": "code",
   "execution_count": null,
   "metadata": {},
   "outputs": [
    {
     "ename": "ModuleNotFoundError",
     "evalue": "No module named 'boto3'",
     "output_type": "error",
     "traceback": [
      "\u001b[0;31m---------------------------------------------------------------------------\u001b[0m",
      "\u001b[0;31mModuleNotFoundError\u001b[0m                       Traceback (most recent call last)",
      "Cell \u001b[0;32mIn[1], line 2\u001b[0m\n\u001b[1;32m      1\u001b[0m \u001b[38;5;28;01mimport\u001b[39;00m \u001b[38;5;21;01mos\u001b[39;00m\n\u001b[0;32m----> 2\u001b[0m \u001b[38;5;28;01mimport\u001b[39;00m \u001b[38;5;21;01mboto3\u001b[39;00m\n\u001b[1;32m      3\u001b[0m \u001b[38;5;28;01mimport\u001b[39;00m \u001b[38;5;21;01mpandas\u001b[39;00m \u001b[38;5;28;01mas\u001b[39;00m \u001b[38;5;21;01mpd\u001b[39;00m\n\u001b[1;32m      4\u001b[0m \u001b[38;5;28;01mimport\u001b[39;00m \u001b[38;5;21;01mpymysql\u001b[39;00m  \u001b[38;5;66;03m# For MySQL RDS\u001b[39;00m\n",
      "\u001b[0;31mModuleNotFoundError\u001b[0m: No module named 'boto3'"
     ]
    }
   ],
   "source": [
    "\n",
    "def lambda_handler(event, context):\n",
    "    # Retrieve S3 bucket and object key from the event\n",
    "    bucket = event['Records'][0]['s3']['bucket']['name']\n",
    "    key = event['Records'][0]['s3']['object']['key']\n",
    "\n",
    "    # Download the file from S3\n",
    "    s3_client = boto3.client('s3')\n",
    "    local_file_path = '/tmp/' + os.path.basename(key)\n",
    "    s3_client.download_file(bucket, key, local_file_path)\n",
    "\n",
    "    # Clean the data (example: replace 'x' with 'y')\n",
    "    cleaned_data = clean_data(local_file_path)\n",
    "\n",
    "    # Connect to RDS and insert cleaned data\n",
    "    db_connection = pymysql.connect(host='cardio-db.crkc44qquibr.us-east-1.rds.amazonaws.com',\n",
    "                                   user='admin',\n",
    "                                   password='rootroot',\n",
    "                                   database='cardio-db')\n",
    "    cursor = db_connection.cursor()\n",
    "\n",
    "    # Example: Insert cleaned data into a table\n",
    "    cursor.execute(\"INSERT INTO your_table (column1, column2) VALUES (%s, %s)\", (cleaned_data['col1'], cleaned_data['col2']))\n",
    "\n",
    "    db_connection.commit()\n",
    "    db_connection.close()\n",
    "\n"
   ]
  },
  {
   "cell_type": "code",
   "execution_count": null,
   "metadata": {},
   "outputs": [],
   "source": [
    "def clean_data(data):\n",
    "    # Handling missing values (dropping rows with missing values for simplicity)\n",
    "    data = data.dropna()\n",
    "\n",
    "    # Checking and handling duplicates\n",
    "    data = data.drop_duplicates()\n",
    "\n",
    "    # Correcting data types\n",
    "    data['age'] = pd.to_numeric(data['age'], errors='coerce')\n",
    "    data['height'] = pd.to_numeric(data['height'], errors='coerce')\n",
    "    data['weight'] = pd.to_numeric(data['weight'], errors='coerce')\n",
    "\n",
    "    # Encoding categorical variables\n",
    "    data['gender'] = data['gender'].map({1: 'Male', 2: 'Female'})\n",
    "    data['cholesterol'] = data['cholesterol'].map({1: 'Normal', 2: 'Above Normal', 3: 'High'})\n",
    "    data['gluc'] = data['gluc'].map({1: 'Normal', 2: 'Above Normal', 3: 'High'})\n",
    "\n",
    "    return data\n"
   ]
  }
 ],
 "metadata": {
  "kernelspec": {
   "display_name": "base",
   "language": "python",
   "name": "python3"
  },
  "language_info": {
   "codemirror_mode": {
    "name": "ipython",
    "version": 3
   },
   "file_extension": ".py",
   "mimetype": "text/x-python",
   "name": "python",
   "nbconvert_exporter": "python",
   "pygments_lexer": "ipython3",
   "version": "3.9.6"
  }
 },
 "nbformat": 4,
 "nbformat_minor": 2
}
